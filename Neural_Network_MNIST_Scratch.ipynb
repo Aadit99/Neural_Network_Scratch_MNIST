{
 "cells": [
  {
   "cell_type": "markdown",
   "id": "12bafd61-1a50-4071-bbe1-3d7f0117c50e",
   "metadata": {},
   "source": [
    "### Import Necessary Libraries"
   ]
  },
  {
   "cell_type": "code",
   "execution_count": 1,
   "id": "62395267-389d-4f63-9d0e-ee30e7964505",
   "metadata": {},
   "outputs": [],
   "source": [
    "import numpy as np\n",
    "import pandas as pd\n",
    "import matplotlib.pyplot as plt\n",
    "from tensorflow.keras.datasets import mnist"
   ]
  },
  {
   "cell_type": "markdown",
   "id": "234a9f36-dc22-41b2-a81d-d5136771d34d",
   "metadata": {},
   "source": [
    "### Load the MNIST dataset and preprocess it"
   ]
  },
  {
   "cell_type": "code",
   "execution_count": 2,
   "id": "e40c55fd-8851-40b4-ae8c-b62dbf797d7a",
   "metadata": {},
   "outputs": [],
   "source": [
    "# Load data\n",
    "(x_train, y_train), (x_test, y_test) = mnist.load_data()\n",
    "\n",
    "# Preprocess data\n",
    "x_train = x_train.reshape(-1, 28*28).astype(np.float32) / 255.0\n",
    "x_test = x_test.reshape(-1, 28*28).astype(np.float32) / 255.0\n",
    "y_test_labels = y_test.copy()\n",
    "y_train = pd.Series(y_train, dtype=\"category\").cat.set_categories(range(10))\n",
    "y_test = pd.Series(y_test, dtype=\"category\").cat.set_categories(range(10))\n",
    "\n",
    "# One-hot encode\n",
    "y_train = pd.get_dummies(y_train).to_numpy()\n",
    "y_test = pd.get_dummies(y_test).to_numpy()"
   ]
  },
  {
   "cell_type": "markdown",
   "id": "12474841-03a6-4ff6-b700-4e0ad8c249f1",
   "metadata": {},
   "source": [
    "### Define the activation and utility functions that will be required later."
   ]
  },
  {
   "cell_type": "code",
   "execution_count": 3,
   "id": "6f3982d5-f31d-4050-9d0c-e9179fdd27f7",
   "metadata": {},
   "outputs": [],
   "source": [
    "# Define activation functions\n",
    "def sigmoid(z):  # For hidden layer\n",
    "    return 1 / (1 + np.exp(-z))\n",
    "\n",
    "def sigmoid_deriv(z): # Needed while back propagating\n",
    "    return sigmoid(z) * (1 - sigmoid(z))\n",
    "\n",
    "def softmax(z): # For output layer\n",
    "    exp = np.exp(z - np.max(z, axis=1, keepdims=True))\n",
    "    return exp / np.sum(exp, axis=1, keepdims=True)\n",
    "\n",
    "def cross_entropy_loss(y_pred, y_true): # To calculate loss\n",
    "    eps = 1e-10\n",
    "    return -np.mean(np.sum(y_true * np.log(y_pred + eps), axis=1))\n",
    "\n",
    "def accuracy(y_pred, y_true): # To calculate performance on test data\n",
    "    return np.mean(np.argmax(y_pred, axis=1) == np.argmax(y_true, axis=1))\n"
   ]
  },
  {
   "cell_type": "markdown",
   "id": "2a46b2e7-05fb-42cb-b4a2-6f3dced0f5e0",
   "metadata": {},
   "source": [
    "### Initialize Parameters of the neural network (Can be changed)"
   ]
  },
  {
   "cell_type": "code",
   "execution_count": 4,
   "id": "ff244d82-e4c4-4a67-81a8-faa5b3542c1c",
   "metadata": {},
   "outputs": [],
   "source": [
    "# Initialize parameters\n",
    "input_size = 784\n",
    "hidden_size = 64\n",
    "output_size = 10\n",
    "\n",
    "# Weights initialized with mean 0 and std dev 0.005\n",
    "# Biases initialized as 0\n",
    "np.random.seed(42)\n",
    "W1 = np.random.randn(input_size, hidden_size) * 0.01\n",
    "b1 = np.zeros((1, hidden_size))\n",
    "W2 = np.random.randn(hidden_size, output_size) * 0.01\n",
    "b2 = np.zeros((1, output_size))"
   ]
  },
  {
   "cell_type": "markdown",
   "id": "876d26e4-1fc0-4112-949a-59cd07ca78c8",
   "metadata": {},
   "source": [
    "### Train the model using gradient descent"
   ]
  },
  {
   "cell_type": "code",
   "execution_count": 5,
   "id": "d1e86c3f-a0c1-4840-ae32-2bca3e914980",
   "metadata": {},
   "outputs": [
    {
     "name": "stdout",
     "output_type": "stream",
     "text": [
      "Epoch 1, Loss: 0.5325, Accuracy: 0.8636\n",
      "Epoch 2, Loss: 0.3496, Accuracy: 0.9059\n",
      "Epoch 3, Loss: 0.2984, Accuracy: 0.9150\n",
      "Epoch 4, Loss: 0.2717, Accuracy: 0.9227\n",
      "Epoch 5, Loss: 0.2502, Accuracy: 0.9287\n",
      "Epoch 6, Loss: 0.2347, Accuracy: 0.9336\n",
      "Epoch 7, Loss: 0.2204, Accuracy: 0.9369\n",
      "Epoch 8, Loss: 0.2098, Accuracy: 0.9405\n",
      "Epoch 9, Loss: 0.1992, Accuracy: 0.9432\n",
      "Epoch 10, Loss: 0.1896, Accuracy: 0.9450\n"
     ]
    }
   ],
   "source": [
    "# Training\n",
    "epochs = 10\n",
    "batch_size = 64  # Mini batch Gradient Descent\n",
    "learning_rate = 0.1  # Can be changed\n",
    "\n",
    "for epoch in range(epochs):\n",
    "    # Shuffle the training data for each epoch to promote generalization and break unnunnecessary patterns\n",
    "    permutation = np.random.permutation(len(x_train))\n",
    "    x_train = x_train[permutation]\n",
    "    y_train = y_train[permutation]\n",
    "\n",
    "    # Iterate on each batch\n",
    "    for i in range(0, len(x_train), batch_size):\n",
    "        X_batch = x_train[i:i+batch_size]\n",
    "        Y_batch = y_train[i:i+batch_size]\n",
    "\n",
    "        # Forward pass\n",
    "        Z1 = np.dot(X_batch, W1) + b1\n",
    "        A1 = sigmoid(Z1)\n",
    "        Z2 = np.dot(A1, W2) + b2\n",
    "        A2 = softmax(Z2)\n",
    "\n",
    "        # Backward pass\n",
    "        dZ2 = A2 - Y_batch\n",
    "        dW2 = np.dot(A1.T, dZ2) / batch_size\n",
    "        db2 = np.sum(dZ2, axis=0, keepdims=True) / batch_size\n",
    "\n",
    "        dA1 = np.dot(dZ2, W2.T)\n",
    "        dZ1 = dA1 * sigmoid_deriv(Z1)\n",
    "        dW1 = np.dot(X_batch.T, dZ1) / batch_size\n",
    "        db1 = np.sum(dZ1, axis=0, keepdims=True) / batch_size\n",
    "\n",
    "        # Update weights\n",
    "        W2 -= learning_rate * dW2\n",
    "        b2 -= learning_rate * db2\n",
    "        W1 -= learning_rate * dW1\n",
    "        b1 -= learning_rate * db1\n",
    "\n",
    "    # Evaluation\n",
    "    Z1 = np.dot(x_test, W1) + b1\n",
    "    A1 = sigmoid(Z1)\n",
    "    Z2 = np.dot(A1, W2) + b2\n",
    "    A2 = softmax(Z2)\n",
    "\n",
    "    loss = cross_entropy_loss(A2, y_test)\n",
    "    acc = accuracy(A2, y_test)\n",
    "\n",
    "    print(f\"Epoch {epoch+1}, Loss: {loss:.4f}, Accuracy: {acc:.4f}\")\n"
   ]
  },
  {
   "cell_type": "markdown",
   "id": "ead8aaa3-d5b5-440d-a908-c0dd447ecbbe",
   "metadata": {},
   "source": [
    "### Prediction function to predict any digit in the dataset by it's index"
   ]
  },
  {
   "cell_type": "code",
   "execution_count": 6,
   "id": "32925f14-7429-4398-b328-bc9defb25420",
   "metadata": {},
   "outputs": [],
   "source": [
    "def predict(index):\n",
    "    sample_image = x_test[index].reshape(1, -1)  # Flattened input\n",
    "    true_label = y_test_labels[index]            # Actual label not one hot encoded\n",
    "    \n",
    "    # Forward pass\n",
    "    Z1 = np.dot(sample_image, W1) + b1\n",
    "    A1 = sigmoid(Z1)\n",
    "    Z2 = np.dot(A1, W2) + b2\n",
    "    A2 = softmax(Z2)\n",
    "    \n",
    "    # Predicted class\n",
    "    predicted_label = np.argmax(A2)\n",
    "    \n",
    "    # Display the image\n",
    "    plt.imshow(x_test[index].reshape(28, 28), cmap='gray')\n",
    "    plt.title(f\"Predicted: {predicted_label}, Actual: {true_label}\")\n",
    "    plt.axis('off')\n",
    "    plt.show()"
   ]
  },
  {
   "cell_type": "code",
   "execution_count": 7,
   "id": "466e3bf6-721c-4a12-8e14-a0c572f6943d",
   "metadata": {},
   "outputs": [
    {
     "data": {
      "image/png": "[encoded data removed]",
      "text/plain": [
       "<Figure size 640x480 with 1 Axes>"
      ]
     },
     "metadata": {},
     "output_type": "display_data"
    },
    {
     "data": {
      "image/png": "[encoded data removed]",
      "text/plain": [
       "<Figure size 640x480 with 1 Axes>"
      ]
     },
     "metadata": {},
     "output_type": "display_data"
    },
    {
     "data": {
      "image/png": "[encoded data removed]",
      "text/plain": [
       "<Figure size 640x480 with 1 Axes>"
      ]
     },
     "metadata": {},
     "output_type": "display_data"
    }
   ],
   "source": [
    "predict(2)\n",
    "predict(6)\n",
    "predict(50)"
   ]
  }
 ],
 "metadata": {
  "kernelspec": {
   "display_name": "Python 3 (ipykernel)",
   "language": "python",
   "name": "python3"
  },
  "language_info": {
   "codemirror_mode": {
    "name": "ipython",
    "version": 3
   },
   "file_extension": ".py",
   "mimetype": "text/x-python",
   "name": "python",
   "nbconvert_exporter": "python",
   "pygments_lexer": "ipython3",
   "version": "3.12.7"
  }
 },
 "nbformat": 4,
 "nbformat_minor": 5
}
